{
  "nbformat": 4,
  "nbformat_minor": 0,
  "metadata": {
    "colab": {
      "name": "RedNeuronalBasica.ipynb",
      "provenance": [],
      "private_outputs": true,
      "collapsed_sections": [],
      "toc_visible": true,
      "authorship_tag": "ABX9TyP0Gx1Si6loHq4l3XmNeJl2",
      "include_colab_link": true
    },
    "kernelspec": {
      "name": "python3",
      "display_name": "Python 3"
    },
    "language_info": {
      "name": "python"
    },
    "accelerator": "TPU",
    "gpuClass": "standard"
  },
  "cells": [
    {
      "cell_type": "markdown",
      "metadata": {
        "id": "view-in-github",
        "colab_type": "text"
      },
      "source": [
        "<a href=\"https://colab.research.google.com/github/mouse3/neural-red/blob/main/RedNeuronalBasica.ipynb\" target=\"_parent\"><img src=\"https://colab.research.google.com/assets/colab-badge.svg\" alt=\"Open In Colab\"/></a>"
      ]
    },
    {
      "cell_type": "code",
      "execution_count": null,
      "metadata": {
        "id": "8Ru4Qiu0ZZNp"
      },
      "outputs": [],
      "source": [
        "import tensorflow as tf\n",
        "import numpy as np\n",
        "import math"
      ]
    },
    {
      "cell_type": "code",
      "source": [
        "x = np.array([1, 2, 3, 4, 5, 6, 7, 8, 9, 10], dtype=float)\n",
        "resultado = np.array([2793, 5586, 8379, 11172, 13965, 16758, 19551, 22344, 25137, 27930], dtype=float)#input equivalente a (sumatoria)[superior = 92] x=55 (200x)"
      ],
      "metadata": {
        "id": "eclEmgsKZbAO"
      },
      "execution_count": null,
      "outputs": []
    },
    {
      "cell_type": "code",
      "source": [
        "modelo = tf.keras.Sequential([\n",
        "    tf.keras.layers.Dense(units=1, input_shape=[1]),\n",
        "    tf.keras.layers.Dense(units=2),\n",
        "    tf.keras.layers.Dense(units=3),\n",
        "    tf.keras.layers.Dense(units=4),\n",
        "    tf.keras.layers.Dense(units=5),\n",
        "    tf.keras.layers.Dense(units=10),\n",
        "    tf.keras.layers.Dense(units=5),\n",
        "    tf.keras.layers.Dense(units=4),\n",
        "    tf.keras.layers.Dense(units=3),\n",
        "    tf.keras.layers.Dense(units=2),\n",
        "    tf.keras.layers.Dense(units=1)\n",
        "])"
      ],
      "metadata": {
        "id": "zC5vhjbBZdl1"
      },
      "execution_count": null,
      "outputs": []
    },
    {
      "cell_type": "code",
      "source": [
        "modelo.compile(\n",
        "    optimizer=tf.keras.optimizers.Adam(0.00001),\n",
        "    loss='mean_squared_error'\n",
        ")"
      ],
      "metadata": {
        "id": "bVY9rfjbZfQ1"
      },
      "execution_count": null,
      "outputs": []
    },
    {
      "cell_type": "code",
      "source": [
        "print(\"Comenzando entrenamiento...\")\n",
        "historial = modelo.fit(x , resultado, epochs=100000, verbose=True)\n",
        "print(\"Modelo entrenado!\")"
      ],
      "metadata": {
        "id": "lRAo4d2zZiS9"
      },
      "execution_count": null,
      "outputs": []
    },
    {
      "cell_type": "code",
      "source": [
        "import matplotlib.pyplot as plt\n",
        "plt.xlabel(\"# Epoca\")\n",
        "plt.ylabel(\"Magnitud de pérdida\")\n",
        "plt.plot(historial.history[\"loss\"])\n",
        "plt.legend()"
      ],
      "metadata": {
        "id": "7g-oF0F6Zj4E"
      },
      "execution_count": null,
      "outputs": []
    },
    {
      "cell_type": "code",
      "source": [
        "print(\"Hagamos una predicción!\")\n",
        "resultado = modelo.predict([200])\n",
        "print(\"El resultado es \" + str(resultado) + \" decibeles!\")"
      ],
      "metadata": {
        "id": "QJey8VLnZlyN"
      },
      "execution_count": null,
      "outputs": []
    },
    {
      "cell_type": "code",
      "source": [
        "print(\"\")\n",
        "print(\"\")\n",
        "print(\"\")\n",
        "print(\"\")\n",
        "print(\"\")\n",
        "print(\"Variables internas del modelo\")\n",
        "#print(capa.get_weights())\n",
        "print(modelo.get_weights())"
      ],
      "metadata": {
        "id": "ffEHog4EZnCV"
      },
      "execution_count": null,
      "outputs": []
    }
  ]
}
